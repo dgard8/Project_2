{
 "cells": [
  {
   "cell_type": "markdown",
   "metadata": {},
   "source": [
    "# Self-Driving Car Engineer Nanodegree\n",
    "\n",
    "## Deep Learning\n",
    "\n",
    "## Project: Build a Traffic Sign Recognition Classifier\n",
    "\n",
    "In this notebook, a template is provided for you to implement your functionality in stages, which is required to successfully complete this project. If additional code is required that cannot be included in the notebook, be sure that the Python code is successfully imported and included in your submission if necessary. \n",
    "\n",
    "> **Note**: Once you have completed all of the code implementations, you need to finalize your work by exporting the iPython Notebook as an HTML document. Before exporting the notebook to html, all of the code cells need to have been run so that reviewers can see the final implementation and output. You can then export the notebook by using the menu above and navigating to  \\n\",\n",
    "    \"**File -> Download as -> HTML (.html)**. Include the finished document along with this notebook as your submission. \n",
    "\n",
    "In addition to implementing code, there is a writeup to complete. The writeup should be completed in a separate file, which can be either a markdown file or a pdf document. There is a [write up template](https://github.com/udacity/CarND-Traffic-Sign-Classifier-Project/blob/master/writeup_template.md) that can be used to guide the writing process. Completing the code template and writeup template will cover all of the [rubric points](https://review.udacity.com/#!/rubrics/481/view) for this project.\n",
    "\n",
    "The [rubric](https://review.udacity.com/#!/rubrics/481/view) contains \"Stand Out Suggestions\" for enhancing the project beyond the minimum requirements. The stand out suggestions are optional. If you decide to pursue the \"stand out suggestions\", you can include the code in this Ipython notebook and also discuss the results in the writeup file."
   ]
  },
  {
   "cell_type": "code",
   "execution_count": 1,
   "metadata": {
    "collapsed": true
   },
   "outputs": [],
   "source": [
    "signNames = []\n",
    "signNames.append(\"Speed limit (20km/h)\")\n",
    "signNames.append(\"Speed limit (30km/h)\")\n",
    "signNames.append(\"Speed limit (50km/h)\")\n",
    "signNames.append(\"Speed limit (60km/h)\")\n",
    "signNames.append(\"Speed limit (70km/h)\")\n",
    "signNames.append(\"Speed limit (80km/h)\")\n",
    "signNames.append(\"End of speed limit (80km/h)\")\n",
    "signNames.append(\"Speed limit (100km/h)\")\n",
    "signNames.append(\"Speed limit (120km/h)\")\n",
    "signNames.append(\"No passing\")\n",
    "signNames.append(\"No passing for vehicles over 3.5 metric tons\")\n",
    "signNames.append(\"Right-of-way at the next intersection\")\n",
    "signNames.append(\"Priority road\")\n",
    "signNames.append(\"Yield\")\n",
    "signNames.append(\"Stop\")\n",
    "signNames.append(\"No vehicles\")\n",
    "signNames.append(\"Vehicles over 3.5 metric tons prohibited\")\n",
    "signNames.append(\"No entry\")\n",
    "signNames.append(\"General caution\")\n",
    "signNames.append(\"Dangerous curve to the left\")\n",
    "signNames.append(\"Dangerous curve to the right\")\n",
    "signNames.append(\"Double curve\")\n",
    "signNames.append(\"Bumpy road\")\n",
    "signNames.append(\"Slippery road\")\n",
    "signNames.append(\"Road narrows on the right\")\n",
    "signNames.append(\"Road work\")\n",
    "signNames.append(\"Traffic signals\")\n",
    "signNames.append(\"Pedestrians\")\n",
    "signNames.append(\"Children crossing\")\n",
    "signNames.append(\"Bicycles crossing\")\n",
    "signNames.append(\"Beware of ice/snow\")\n",
    "signNames.append(\"Wild animals crossing\")\n",
    "signNames.append(\"End of all speed and passing limits\")\n",
    "signNames.append(\"Turn right ahead\")\n",
    "signNames.append(\"Turn left ahead\")\n",
    "signNames.append(\"Ahead only\")\n",
    "signNames.append(\"Go straight or right\")\n",
    "signNames.append(\"Go straight or left\")\n",
    "signNames.append(\"Keep right\")\n",
    "signNames.append(\"Keep left\")\n",
    "signNames.append(\"Roundabout mandatory\")\n",
    "signNames.append(\"End of no passing\")\n",
    "signNames.append(\"End of no passing by vehicles over 3.5 metric tons\")"
   ]
  },
  {
   "cell_type": "code",
   "execution_count": null,
   "metadata": {},
   "outputs": [],
   "source": [
    "index = signNames.index(\"Pedestrians\")\n",
    "print(index)\n",
    "print(signNames[index])\n",
    "indices = np.where(y_train == index)[0]\n",
    "image = X_train[indices[0]]\n",
    "plt.figure()\n",
    "plt.imshow(image)"
   ]
  },
  {
   "cell_type": "markdown",
   "metadata": {},
   "source": [
    "---\n",
    "## Step 0: Load The Data"
   ]
  },
  {
   "cell_type": "code",
   "execution_count": 40,
   "metadata": {
    "collapsed": true
   },
   "outputs": [],
   "source": [
    "# Load pickled data\n",
    "import pickle\n",
    "\n",
    "training_file = 'traffic-signs-data/train.p'\n",
    "validation_file = 'traffic-signs-data/valid.p'\n",
    "testing_file = 'traffic-signs-data/test.p'\n",
    "\n",
    "with open(training_file, mode='rb') as f:\n",
    "    train = pickle.load(f)\n",
    "with open(validation_file, mode='rb') as f:\n",
    "    valid = pickle.load(f)\n",
    "with open(testing_file, mode='rb') as f:\n",
    "    test = pickle.load(f)\n",
    "    \n",
    "X_train, y_train = train['features'], train['labels']\n",
    "X_valid, y_valid = valid['features'], valid['labels']\n",
    "X_test, y_test = test['features'], test['labels']"
   ]
  },
  {
   "cell_type": "markdown",
   "metadata": {},
   "source": [
    "---\n",
    "\n",
    "## Step 1: Dataset Summary & Exploration\n",
    "\n",
    "The pickled data is a dictionary with 4 key/value pairs:\n",
    "\n",
    "- `'features'` is a 4D array containing raw pixel data of the traffic sign images, (num examples, width, height, channels).\n",
    "- `'labels'` is a 1D array containing the label/class id of the traffic sign. The file `signnames.csv` contains id -> name mappings for each id.\n",
    "- `'sizes'` is a list containing tuples, (width, height) representing the original width and height the image.\n",
    "- `'coords'` is a list containing tuples, (x1, y1, x2, y2) representing coordinates of a bounding box around the sign in the image. **THESE COORDINATES ASSUME THE ORIGINAL IMAGE. THE PICKLED DATA CONTAINS RESIZED VERSIONS (32 by 32) OF THESE IMAGES**\\"
   ]
  },
  {
   "cell_type": "markdown",
   "metadata": {},
   "source": [
    "### Provide a Basic Summary of the Data Set Using Python, Numpy and/or Pandas"
   ]
  },
  {
   "cell_type": "code",
   "execution_count": 41,
   "metadata": {},
   "outputs": [
    {
     "name": "stdout",
     "output_type": "stream",
     "text": [
      "Number of training examples = 34799\n",
      "Number of validation examples = 4410\n",
      "Number of testing examples = 12630\n",
      "Image data shape = (32, 32, 3)\n",
      "Number of classes = 43\n"
     ]
    }
   ],
   "source": [
    "import numpy as np\n",
    "\n",
    "n_train = len(X_train)\n",
    "n_validation = len(X_valid)\n",
    "n_test = len(X_test)\n",
    "image_shape = np.shape(X_train[0])\n",
    "n_classes = len(np.unique(y_train))\n",
    "\n",
    "print(\"Number of training examples =\", n_train)\n",
    "print(\"Number of validation examples =\", n_validation)\n",
    "print(\"Number of testing examples =\", n_test)\n",
    "print(\"Image data shape =\", image_shape)\n",
    "print(\"Number of classes =\", n_classes)"
   ]
  },
  {
   "cell_type": "markdown",
   "metadata": {},
   "source": [
    "### Include an exploratory visualization of the dataset"
   ]
  },
  {
   "cell_type": "markdown",
   "metadata": {},
   "source": [
    "Visualize the German Traffic Signs Dataset using the pickled file(s). This is open ended, suggestions include: plotting traffic sign images, plotting the count of each sign, etc. \n",
    "\n",
    "The [Matplotlib](http://matplotlib.org/) [examples](http://matplotlib.org/examples/index.html) and [gallery](http://matplotlib.org/gallery.html) pages are a great resource for doing visualizations in Python.\n",
    "\n",
    "**NOTE:** It's recommended you start with something simple first. If you wish to do more, come back to it after you've completed the rest of the sections. It can be interesting to look at the distribution of classes in the training, validation and test set. Is the distribution the same? Are there more examples of some classes than others?"
   ]
  },
  {
   "cell_type": "code",
   "execution_count": 4,
   "metadata": {},
   "outputs": [
    {
     "name": "stdout",
     "output_type": "stream",
     "text": [
      "22\n",
      "Bumpy road\n"
     ]
    },
    {
     "data": {
      "image/png": "[encoded data removed]",
      "text/plain": [
       "<matplotlib.figure.Figure at 0x7efe34928240>"
      ]
     },
     "metadata": {},
     "output_type": "display_data"
    }
   ],
   "source": [
    "### Data exploration visualization code goes here.\n",
    "### Feel free to use as many code cells as needed.\n",
    "import matplotlib.pyplot as plt\n",
    "import random\n",
    "# Visualizations will be shown in the notebook.\n",
    "%matplotlib inline\n",
    "index = random.randint(0,len(X_train))\n",
    "plt.figure()\n",
    "plt.imshow(X_train[index])\n",
    "print(y_train[index])\n",
    "print(signNames[y_train[index]])"
   ]
  },
  {
   "cell_type": "code",
   "execution_count": 20,
   "metadata": {},
   "outputs": [
    {
     "name": "stdout",
     "output_type": "stream",
     "text": [
      "Train Data\n"
     ]
    },
    {
     "data": {
      "image/png": "[encoded data removed]",
      "text/plain": [
       "<matplotlib.figure.Figure at 0x7efdf051c6a0>"
      ]
     },
     "metadata": {},
     "output_type": "display_data"
    }
   ],
   "source": [
    "plt.hist(y_train, bins=43)\n",
    "print(\"Train Data\")"
   ]
  },
  {
   "cell_type": "code",
   "execution_count": 10,
   "metadata": {},
   "outputs": [
    {
     "name": "stdout",
     "output_type": "stream",
     "text": [
      "Validation Data\n"
     ]
    },
    {
     "data": {
      "image/png": "[encoded data removed]",
      "text/plain": [
       "<matplotlib.figure.Figure at 0x7efe00822320>"
      ]
     },
     "metadata": {},
     "output_type": "display_data"
    }
   ],
   "source": [
    "plt.hist(y_valid, bins=43)\n",
    "print(\"Validation Data\")"
   ]
  },
  {
   "cell_type": "code",
   "execution_count": 11,
   "metadata": {},
   "outputs": [
    {
     "name": "stdout",
     "output_type": "stream",
     "text": [
      "Test Data\n"
     ]
    },
    {
     "data": {
      "image/png": "[encoded data removed]",
      "text/plain": [
       "<matplotlib.figure.Figure at 0x7efdf8037e10>"
      ]
     },
     "metadata": {},
     "output_type": "display_data"
    }
   ],
   "source": [
    "plt.hist(y_test, bins=43)\n",
    "print(\"Test Data\")"
   ]
  },
  {
   "cell_type": "code",
   "execution_count": 8,
   "metadata": {},
   "outputs": [
    {
     "name": "stdout",
     "output_type": "stream",
     "text": [
      "Speed limit (20km/h)................................ 398137 [146160 127467 124509]\n",
      "Speed limit (30km/h)................................ 328939 [119700 104886 104352]\n",
      "Speed limit (50km/h)................................ 281139 [104477  90484  86178]\n",
      "Speed limit (60km/h)................................ 209766 [72227 67498 70040]\n",
      "Speed limit (70km/h)................................ 223037 [80951 71142 70943]\n",
      "Speed limit (80km/h)................................ 180081 [61885 57364 60831]\n",
      "End of speed limit (80km/h)......................... 126201 [41792 41338 43069]\n",
      "Speed limit (100km/h)............................... 181965 [63268 57902 60794]\n",
      "Speed limit (120km/h)............................... 156047 [54046 48775 53226]\n",
      "No passing.......................................... 300414 [110981  95263  94169]\n",
      "No passing for vehicles over 3.5 metric tons........ 154386 [53943 48371 52072]\n",
      "Right-of-way at the next intersection............... 278437 [99142 89577 89718]\n",
      "Priority road....................................... 270054 [94343 89162 86548]\n",
      "Yield............................................... 317042 [111342 103041 102658]\n",
      "Stop................................................ 329827 [127845 102505  99476]\n",
      "No vehicles......................................... 305711 [107735  97919 100057]\n",
      "Vehicles over 3.5 metric tons prohibited............ 292431 [ 98528  92974 100928]\n",
      "No entry............................................ 221807 [85177 67901 68728]\n",
      "General caution..................................... 288517 [102114  92622  93779]\n",
      "Dangerous curve to the left......................... 226698 [84295 72975 69427]\n",
      "Dangerous curve to the right........................ 148391 [51138 47194 50059]\n",
      "Double curve........................................ 227113 [87489 72213 67410]\n",
      "Bumpy road.......................................... 312228 [112527 101732  97968]\n",
      "Slippery road....................................... 240102 [87974 77486 74641]\n",
      "Road narrows on the right........................... 271898 [98243 86989 86666]\n",
      "Road work........................................... 258162 [92119 81917 84126]\n",
      "Traffic signals..................................... 210692 [77849 68586 64256]\n",
      "Pedestrians......................................... 230271 [85939 72797 71534]\n",
      "Children crossing................................... 286164 [104433  92156  89574]\n",
      "Bicycles crossing................................... 284624 [103197  92208  89218]\n",
      "Beware of ice/snow.................................. 240423 [78072 76645 85704]\n",
      "Wild animals crossing............................... 197119 [70930 63256 62932]\n",
      "End of all speed and passing limits................. 253834 [86741 84568 82524]\n",
      "Turn right ahead.................................... 245093 [76123 78438 90532]\n",
      "Turn left ahead..................................... 344984 [101874 111254 131856]\n",
      "Ahead only.......................................... 369312 [112420 119345 137546]\n",
      "Go straight or right................................ 282984 [ 86582  91059 105342]\n",
      "Go straight or left................................. 296422 [ 88387  96994 111040]\n",
      "Keep right.......................................... 251904 [77809 80685 93409]\n",
      "Keep left........................................... 257783 [ 73578  82649 101555]\n",
      "Roundabout mandatory................................ 298172 [ 90587  96731 110854]\n",
      "End of no passing................................... 312280 [109268 103078  99934]\n",
      "End of no passing by vehicles over 3.5 metric tons.. 175021 [59643 57789 57588]\n"
     ]
    }
   ],
   "source": [
    "#dominate colors for each sign type\n",
    "for i in range(43):\n",
    "    indices = np.where(y_train == i)[0]\n",
    "    pixelSum = 0    \n",
    "    colors = [0, 0, 0]\n",
    "    for index in indices:\n",
    "        pixelSum += np.sum(X_train[index])\n",
    "        colors += np.sum(np.sum(X_train[index], axis=0), axis=0)\n",
    "    pixelSum /= len(indices)\n",
    "    colors /= len(indices)\n",
    "    print('{:.<52}'.format(signNames[i]), int(pixelSum), colors.astype(int))"
   ]
  },
  {
   "cell_type": "markdown",
   "metadata": {},
   "source": [
    "----\n",
    "\n",
    "## Step 2: Design and Test a Model Architecture\n",
    "\n",
    "Design and implement a deep learning model that learns to recognize traffic signs. Train and test your model on the [German Traffic Sign Dataset](http://benchmark.ini.rub.de/?section=gtsrb&subsection=dataset).\n",
    "\n",
    "The LeNet-5 implementation shown in the [classroom](https://classroom.udacity.com/nanodegrees/nd013/parts/fbf77062-5703-404e-b60c-95b78b2f3f9e/modules/6df7ae49-c61c-4bb2-a23e-6527e69209ec/lessons/601ae704-1035-4287-8b11-e2c2716217ad/concepts/d4aca031-508f-4e0b-b493-e7b706120f81) at the end of the CNN lesson is a solid starting point. You'll have to change the number of classes and possibly the preprocessing, but aside from that it's plug and play! \n",
    "\n",
    "With the LeNet-5 solution from the lecture, you should expect a validation set accuracy of about 0.89. To meet specifications, the validation set accuracy will need to be at least 0.93. It is possible to get an even higher accuracy, but 0.93 is the minimum for a successful project submission. \n",
    "\n",
    "There are various aspects to consider when thinking about this problem:\n",
    "\n",
    "- Neural network architecture (is the network over or underfitting?)\n",
    "- Play around preprocessing techniques (normalization, rgb to grayscale, etc)\n",
    "- Number of examples per label (some have more than others).\n",
    "- Generate fake data.\n",
    "\n",
    "Here is an example of a [published baseline model on this problem](http://yann.lecun.com/exdb/publis/pdf/sermanet-ijcnn-11.pdf). It's not required to be familiar with the approach used in the paper but, it's good practice to try to read papers like these."
   ]
  },
  {
   "cell_type": "markdown",
   "metadata": {},
   "source": [
    "### Pre-process the Data Set (normalization, grayscale, etc.)"
   ]
  },
  {
   "cell_type": "markdown",
   "metadata": {},
   "source": [
    "Minimally, the image data should be normalized so that the data has mean zero and equal variance. For image data, `(pixel - 128)/ 128` is a quick way to approximately normalize the data and can be used in this project. \n",
    "\n",
    "Other pre-processing steps are optional. You can try different techniques to see if it improves performance. \n",
    "\n",
    "Use the code cell (or multiple code cells, if necessary) to implement the first step of your project."
   ]
  },
  {
   "cell_type": "code",
   "execution_count": 12,
   "metadata": {
    "collapsed": true
   },
   "outputs": [],
   "source": [
    "from scipy.ndimage import rotate\n",
    "import random\n",
    "\n",
    "def addRotatedImage(array,image):\n",
    "    newImage = rotate(image,random.randint(1,20),reshape=False)\n",
    "    array.append(newImage)"
   ]
  },
  {
   "cell_type": "code",
   "execution_count": 60,
   "metadata": {},
   "outputs": [
    {
     "name": "stdout",
     "output_type": "stream",
     "text": [
      "(37, 180)\n",
      "(19, 180)\n",
      "(0, 180)\n",
      "(42, 210)\n",
      "(41, 210)\n",
      "(32, 210)\n",
      "(27, 210)\n",
      "(29, 240)\n",
      "(24, 240)\n",
      "(39, 270)\n",
      "(21, 270)\n",
      "(40, 300)\n",
      "(20, 300)\n",
      "(36, 330)\n",
      "(22, 330)\n",
      "(34, 360)\n",
      "(16, 360)\n",
      "(6, 360)\n",
      "(30, 390)\n",
      "(23, 450)\n",
      "(28, 480)\n",
      "(26, 540)\n",
      "(15, 540)\n",
      "(33, 599)\n",
      "(31, 690)\n",
      "(14, 690)\n",
      "(17, 990)\n",
      "(35, 1080)\n",
      "(18, 1080)\n",
      "(11, 1170)\n",
      "(8, 1260)\n",
      "(3, 1260)\n",
      "(7, 1290)\n",
      "(9, 1320)\n",
      "(25, 1350)\n",
      "(5, 1650)\n",
      "(4, 1770)\n",
      "(10, 1800)\n",
      "(38, 1860)\n",
      "(12, 1890)\n",
      "(13, 1920)\n",
      "(1, 1980)\n",
      "(2, 2010)\n"
     ]
    }
   ],
   "source": [
    "\n",
    "from collections import Counter\n",
    "counts = Counter(y_train).most_common()\n",
    "biggestCount = counts[0][1]\n",
    "for i in range(len(counts)-1,-1,-1):\n",
    "    print(counts[i])\n",
    "    index = counts[i][0]\n",
    "    indices = np.where(y_train == index)[0]\n",
    "    for j in range(biggestCount - counts[i][1]):\n",
    "        index = random.randint(0,len(indices))\n",
    "        addRotatedImage()"
   ]
  },
  {
   "cell_type": "code",
   "execution_count": 23,
   "metadata": {
    "collapsed": true
   },
   "outputs": [],
   "source": [
    "rotated_x_train = []\n",
    "rotated_y_train = []\n",
    "for i in range(20,30):\n",
    "    indices = np.where(y_train == i)[0]\n",
    "    for index in indices:\n",
    "        for j in range(1,10):\n",
    "            addRotatedImage(rotated_x_train, X_train[index])\n",
    "            rotated_y_train.append(i)"
   ]
  },
  {
   "cell_type": "code",
   "execution_count": 24,
   "metadata": {
    "collapsed": true
   },
   "outputs": [],
   "source": [
    "X_train = np.append(X_train, rotated_x_train, axis=0)\n",
    "y_train = np.append(y_train, rotated_y_train, axis=0)"
   ]
  },
  {
   "cell_type": "code",
   "execution_count": 25,
   "metadata": {},
   "outputs": [
    {
     "name": "stdout",
     "output_type": "stream",
     "text": [
      "Train Data\n"
     ]
    },
    {
     "data": {
      "image/png": "[encoded data removed]",
      "text/plain": [
       "<matplotlib.figure.Figure at 0x7efdf05c5a20>"
      ]
     },
     "metadata": {},
     "output_type": "display_data"
    }
   ],
   "source": [
    "plt.hist(y_train, bins=43)\n",
    "print(\"Train Data\")"
   ]
  },
  {
   "cell_type": "code",
   "execution_count": 26,
   "metadata": {
    "collapsed": true
   },
   "outputs": [],
   "source": [
    "import cv2\n",
    "\n",
    "def addGrayToColor(inputImage, grayImage):\n",
    "    xShape = inputImage.shape\n",
    "    newShape = (xShape[0], xShape[1], xShape[2], xShape[3]+1)\n",
    "    output = np.zeros(newShape)\n",
    "    for i in range(len(inputImage)):\n",
    "        for j in range(len(inputImage[i])):\n",
    "            for k in range(len(inputImage[i][j])):\n",
    "                for l in range (len(inputImage[i][j][k])):\n",
    "                    output[i][j][k][l] = inputImage[i][j][k][l]\n",
    "                output[i][j][k][len(inputImage[i][j][k])] = grayImage[i][j][k]\n",
    "    return output\n",
    "\n",
    "def preProcess(images):\n",
    "    #grayImages = np.array([cv2.cvtColor(x, cv2.COLOR_RGB2GRAY)[:, :, np.newaxis] for x in images])\n",
    "    #comboImages = addGrayToColor(images, grayImages)\n",
    "    processedImages = (images - [128])/128\n",
    "    return processedImages"
   ]
  },
  {
   "cell_type": "code",
   "execution_count": 27,
   "metadata": {
    "collapsed": true
   },
   "outputs": [],
   "source": [
    "X_train_processed = preProcess(X_train)\n",
    "X_valid_processed = preProcess(X_valid)\n",
    "X_test_processed  = preProcess(X_test)"
   ]
  },
  {
   "cell_type": "code",
   "execution_count": 28,
   "metadata": {},
   "outputs": [
    {
     "name": "stdout",
     "output_type": "stream",
     "text": [
      "[97 88 84]\n",
      "[-0.2421875 -0.3125    -0.34375  ]\n"
     ]
    }
   ],
   "source": [
    "index1 = random.randint(0,len(X_train)-1)\n",
    "index2 = random.randint(0,len(X_train[index1])-1)\n",
    "index3 = random.randint(0,len(X_train[index1][index2])-1)\n",
    "index4 = random.randint(0,len(X_train[index1][index2][index3])-1)\n",
    "\n",
    "print(X_train[index1][index2][index3])\n",
    "print(X_train_processed[index1][index2][index3])"
   ]
  },
  {
   "cell_type": "markdown",
   "metadata": {},
   "source": [
    "### Model Architecture"
   ]
  },
  {
   "cell_type": "code",
   "execution_count": 29,
   "metadata": {
    "collapsed": true
   },
   "outputs": [],
   "source": [
    "import tensorflow as tf"
   ]
  },
  {
   "cell_type": "code",
   "execution_count": 30,
   "metadata": {
    "collapsed": true
   },
   "outputs": [],
   "source": [
    "def convolutionLayer(inputLayer, inputShape, outputShape, mu, sigma):\n",
    "    \n",
    "    convSize=inputShape[0]-outputShape[0]+1\n",
    "    \n",
    "    weights = tf.Variable(tf.truncated_normal(\n",
    "        shape=(convSize, convSize, inputShape[2], outputShape[2]), mean = mu, stddev = sigma))\n",
    "    bias = tf.Variable(tf.zeros(outputShape[2]))\n",
    "    \n",
    "    return tf.nn.conv2d(inputLayer, weights, strides=[1, 1, 1, 1], padding='VALID') + bias\n",
    "\n",
    "def activationLayer(inputLayer, keep_prob):\n",
    "    layer = tf.nn.relu(inputLayer)\n",
    "    return tf.nn.dropout(layer, keep_prob)\n",
    "\n",
    "def poolingLayer(inputLayer, inputShape, outputShape):\n",
    "    strideSize = inputShape[0]/outputShape[0]\n",
    "    return tf.nn.max_pool(inputLayer, \n",
    "        ksize=[1, strideSize, strideSize, 1], strides=[1, strideSize, strideSize, 1], padding='VALID')\n",
    "\n",
    "def fullyConnectedLayer(inputLayer, inputShape, outputShape, mu, sigma, keep_prob):\n",
    "    weights = tf.Variable(tf.truncated_normal(shape=(inputShape, outputShape), mean = mu, stddev = sigma))\n",
    "    bias = tf.Variable(tf.zeros(outputShape))\n",
    "    layer = tf.matmul(inputLayer, weights) + bias\n",
    "    return tf.nn.dropout(layer, keep_prob)"
   ]
  },
  {
   "cell_type": "code",
   "execution_count": 31,
   "metadata": {
    "collapsed": true
   },
   "outputs": [],
   "source": [
    "from tensorflow.contrib.layers import flatten\n",
    "\n",
    "def LeNet(x, keep_prob_conv, keep_prob_fullConn):    \n",
    "    mu = 0\n",
    "    sigma = 0.1\n",
    "    \n",
    "    inputShape=(32, 32, 3)\n",
    "    outputShape=(28, 28, 16)\n",
    "    \n",
    "    conv1 = convolutionLayer(x, inputShape, outputShape, mu, sigma)\n",
    "    conv1 = activationLayer(conv1, keep_prob_conv)\n",
    "    inputShape = outputShape\n",
    "    outputShape = (14, 14, inputShape[2])\n",
    "    conv1 = poolingLayer(conv1, inputShape, outputShape)\n",
    "    \n",
    "    fc00 = flatten(conv1)\n",
    "    outputShape0 = outputShape[0]*outputShape[1]*outputShape[2]\n",
    "    \n",
    "    inputShape0 = outputShape0\n",
    "    outputShape0 = 120\n",
    "    fc01 = fullyConnectedLayer(fc00, inputShape0, outputShape0, mu, sigma, keep_prob_fullConn)\n",
    "    fc01 = activationLayer(fc01, 1)\n",
    "\n",
    "    inputShape = outputShape\n",
    "    outputShape = (10, 10, 32)\n",
    "    conv2 = convolutionLayer(conv1, inputShape, outputShape, mu, sigma)\n",
    "    conv2 = activationLayer(conv2, keep_prob_conv)\n",
    "    inputShape = outputShape\n",
    "    outputShape = (5, 5, inputShape[2])\n",
    "    conv2 = poolingLayer(conv2, inputShape, outputShape)\n",
    "\n",
    "    inputShape = outputShape\n",
    "    outputShape = inputShape[0]*inputShape[1]*inputShape[2]\n",
    "    fc0 = flatten(conv2)\n",
    "    \n",
    "    inputShape = outputShape\n",
    "    outputShape = 120\n",
    "    fc1 = fullyConnectedLayer(fc0, inputShape, outputShape, mu, sigma, keep_prob_fullConn)\n",
    "    fc1 = activationLayer(fc1, 1)\n",
    "\n",
    "    inputShape = outputShape\n",
    "    outputShape = 84\n",
    "    fc2 = fullyConnectedLayer(fc1, inputShape, outputShape, mu, sigma, keep_prob_fullConn)\n",
    "    fc2 = activationLayer(fc2, 1)\n",
    "\n",
    "    inputShape = outputShape\n",
    "    outputShape = 43\n",
    "    logits = fullyConnectedLayer(fc2, inputShape, outputShape, mu, sigma, keep_prob_fullConn)\n",
    "    \n",
    "    return logits"
   ]
  },
  {
   "cell_type": "markdown",
   "metadata": {},
   "source": [
    "### Train, Validate and Test the Model"
   ]
  },
  {
   "cell_type": "markdown",
   "metadata": {},
   "source": [
    "A validation set can be used to assess how well the model is performing. A low accuracy on the training and validation\n",
    "sets imply underfitting. A high accuracy on the training set but low accuracy on the validation set implies overfitting."
   ]
  },
  {
   "cell_type": "code",
   "execution_count": 32,
   "metadata": {
    "collapsed": true
   },
   "outputs": [],
   "source": [
    "### Train your model here.\n",
    "### Calculate and report the accuracy on the training and validation set.\n",
    "### Once a final model architecture is selected, \n",
    "### the accuracy on the test set should be calculated and reported as well.\n",
    "### Feel free to use as many code cells as needed."
   ]
  },
  {
   "cell_type": "code",
   "execution_count": 33,
   "metadata": {
    "collapsed": true
   },
   "outputs": [],
   "source": [
    "x = tf.placeholder(tf.float32, (None, 32, 32, 3))\n",
    "y = tf.placeholder(tf.int32, (None))\n",
    "keep_prob_conv = tf.placeholder(tf.float32)\n",
    "keep_prob_fullConn = tf.placeholder(tf.float32)\n",
    "one_hot_y = tf.one_hot(y, 43)"
   ]
  },
  {
   "cell_type": "code",
   "execution_count": 34,
   "metadata": {
    "collapsed": true
   },
   "outputs": [],
   "source": [
    "rate = 0.0001\n",
    "logits = LeNet(x, keep_prob_conv, keep_prob_fullConn)\n",
    "cross_entropy = tf.nn.softmax_cross_entropy_with_logits(labels=one_hot_y, logits=logits)\n",
    "loss_operation = tf.reduce_mean(cross_entropy)\n",
    "optimizer = tf.train.AdamOptimizer(learning_rate = rate)\n",
    "training_operation = optimizer.minimize(loss_operation)"
   ]
  },
  {
   "cell_type": "code",
   "execution_count": 35,
   "metadata": {
    "collapsed": true
   },
   "outputs": [],
   "source": [
    "correct_prediction = tf.equal(tf.argmax(logits, 1), tf.argmax(one_hot_y, 1))\n",
    "accuracy_operation = tf.reduce_mean(tf.cast(correct_prediction, tf.float32))\n",
    "saver = tf.train.Saver()\n",
    "\n",
    "def evaluate(X_data, y_data):\n",
    "    num_examples = len(X_data)\n",
    "    total_accuracy = 0\n",
    "    sess = tf.get_default_session()\n",
    "    for offset in range(0, num_examples, BATCH_SIZE):\n",
    "        batch_x, batch_y = X_data[offset:offset+BATCH_SIZE], y_data[offset:offset+BATCH_SIZE]\n",
    "        accuracy = sess.run(accuracy_operation, feed_dict={x: batch_x, y: batch_y, \n",
    "                                                           keep_prob_conv: 1.0, keep_prob_fullConn: 1.0})\n",
    "        total_accuracy += (accuracy * len(batch_x))\n",
    "    return total_accuracy / num_examples"
   ]
  },
  {
   "cell_type": "code",
   "execution_count": 36,
   "metadata": {
    "collapsed": true
   },
   "outputs": [],
   "source": [
    "EPOCHS = 1\n",
    "BATCH_SIZE = 128"
   ]
  },
  {
   "cell_type": "code",
   "execution_count": 37,
   "metadata": {},
   "outputs": [
    {
     "name": "stdout",
     "output_type": "stream",
     "text": [
      "Training...\n",
      "\n",
      "EPOCH 1 ...\n",
      "Train Accuracy = 0.569\n",
      "Validation Accuracy = 0.309\n",
      "\n",
      "Model saved\n"
     ]
    }
   ],
   "source": [
    "from sklearn.utils import shuffle\n",
    "\n",
    "with tf.Session() as sess:\n",
    "    sess.run(tf.global_variables_initializer())\n",
    "    num_examples = len(X_train_processed)\n",
    "    \n",
    "    print(\"Training...\")\n",
    "    print()\n",
    "    for i in range(EPOCHS):\n",
    "        X_train_processed, X_train, y_train = shuffle(X_train_processed, X_train, y_train)\n",
    "        for offset in range(0, num_examples, BATCH_SIZE):\n",
    "            end = offset + BATCH_SIZE\n",
    "            batch_x, batch_y = X_train_processed[offset:end], y_train[offset:end]\n",
    "            sess.run(training_operation, feed_dict={x: batch_x, y: batch_y, \n",
    "                                                    keep_prob_conv: 0.8, keep_prob_fullConn: 0.8})\n",
    "            \n",
    "        print(\"EPOCH {} ...\".format(i+1))\n",
    "        \n",
    "        train_accuracy = evaluate(X_train_processed, y_train)\n",
    "        print(\"Train Accuracy = {:.3f}\".format(train_accuracy))\n",
    "        validation_accuracy = evaluate(X_valid_processed, y_valid)\n",
    "        print(\"Validation Accuracy = {:.3f}\".format(validation_accuracy))\n",
    "        print()\n",
    "        \n",
    "    saver.save(sess, './lenet')\n",
    "    print(\"Model saved\")"
   ]
  },
  {
   "cell_type": "markdown",
   "metadata": {},
   "source": [
    "---\n",
    "\n",
    "## Step 3: Test a Model on New Images\n",
    "\n",
    "To give yourself more insight into how your model is working, download at least five pictures of German traffic signs from the web and use your model to predict the traffic sign type.\n",
    "\n",
    "You may find `signnames.csv` useful as it contains mappings from the class id (integer) to the actual sign name."
   ]
  },
  {
   "cell_type": "markdown",
   "metadata": {},
   "source": [
    "### Load and Output the Images"
   ]
  },
  {
   "cell_type": "code",
   "execution_count": null,
   "metadata": {
    "collapsed": true
   },
   "outputs": [],
   "source": [
    "internetImages = []\n",
    "internetAnswers = []"
   ]
  },
  {
   "cell_type": "code",
   "execution_count": null,
   "metadata": {
    "collapsed": true
   },
   "outputs": [],
   "source": [
    "import matplotlib.image as mpimg\n",
    "\n",
    "def make32By32(image):\n",
    "    dim = (32, 32)\n",
    "    return cv2.resize(image, dim, interpolation = cv2.INTER_AREA)\n",
    "\n",
    "def printImage(image):\n",
    "    plt.figure()\n",
    "    plt.imshow(image)\n",
    "\n",
    "def addToAnswers(image,signName):\n",
    "    internetImages.append(image)\n",
    "    internetAnswers.append(signNames.index(signName))"
   ]
  },
  {
   "cell_type": "code",
   "execution_count": null,
   "metadata": {},
   "outputs": [],
   "source": [
    "image = mpimg.imread('downloaded-signs/70kmh.png')\n",
    "crop_image = image[100:550, 700:1150]\n",
    "resized_image = make32By32(crop_image)\n",
    "printImage(resized_image)\n",
    "addToAnswers(resized_image, \"Speed limit (70km/h)\")"
   ]
  },
  {
   "cell_type": "code",
   "execution_count": null,
   "metadata": {},
   "outputs": [],
   "source": [
    "import matplotlib.image as mpimg\n",
    "\n",
    "image = mpimg.imread('downloaded-signs/noPassingOverTons.png')\n",
    "resized_image = make32By32(image)\n",
    "printImage(resized_image)\n",
    "addToAnswers(resized_image,  \"No passing for vehicles over 3.5 metric tons\")"
   ]
  },
  {
   "cell_type": "code",
   "execution_count": null,
   "metadata": {},
   "outputs": [],
   "source": [
    "import matplotlib.image as mpimg\n",
    "\n",
    "image = mpimg.imread('downloaded-signs/roadNarrowsOnRight.jpg')\n",
    "resized_image = make32By32(image)\n",
    "printImage(resized_image)\n",
    "addToAnswers(resized_image, \"Road narrows on the right\")"
   ]
  },
  {
   "cell_type": "code",
   "execution_count": null,
   "metadata": {
    "collapsed": true
   },
   "outputs": [],
   "source": [
    "import matplotlib.image as mpimg\n",
    "\n",
    "image = mpimg.imread('downloaded-signs/roadWork.png')\n",
    "resized_image = make32By32(image)\n",
    "printImage(resized_image)\n",
    "addToAnswers(resized_image, \"Road work\")"
   ]
  },
  {
   "cell_type": "code",
   "execution_count": null,
   "metadata": {
    "collapsed": true
   },
   "outputs": [],
   "source": [
    "import matplotlib.image as mpimg\n",
    "\n",
    "image = mpimg.imread('downloaded-signs/stop.png')\n",
    "crop_image = image[60:250, 100:320]\n",
    "resized_image = make32By32(crop_image)\n",
    "printImage(resized_image)\n",
    "addToAnswers(resized_image, \"Stop\")"
   ]
  },
  {
   "cell_type": "markdown",
   "metadata": {},
   "source": [
    "### Predict the Sign Type for Each Image"
   ]
  },
  {
   "cell_type": "code",
   "execution_count": null,
   "metadata": {
    "collapsed": true
   },
   "outputs": [],
   "source": [
    "### Run the predictions here and use the model to output the prediction for each image.\n",
    "### Make sure to pre-process the images with the same pre-processing pipeline used earlier.\n",
    "### Feel free to use as many code cells as needed.\n",
    "\n",
    "internetImages=np.array(internetImages)\n",
    "internetAnswers=np.array(internetAnswers)\n",
    "for image in internetImages:\n",
    "    image = preProcess(image)"
   ]
  },
  {
   "cell_type": "code",
   "execution_count": null,
   "metadata": {},
   "outputs": [],
   "source": [
    "with tf.Session() as sess:\n",
    "    saver.restore(sess, './lenet')\n",
    "    test = sess.run(logits, feed_dict={x: internetImages, y: internetAnswers, keep_prob_conv: 1.0, keep_prob_fullConn: 1.0})\n",
    "    test = tf.nn.softmax(test)\n",
    "    test = tf.nn.top_k(test, k=1)\n",
    "    answers = sess.run(test)\n",
    "for i in range(len(internetAnswers)):\n",
    "    print(\"correct answer: \",signNames[internetAnswers[i]])\n",
    "    print(\"network answer: \",signNames[answers.indices[i][0]])\n",
    "    print()"
   ]
  },
  {
   "cell_type": "markdown",
   "metadata": {},
   "source": [
    "### Analyze Performance"
   ]
  },
  {
   "cell_type": "code",
   "execution_count": null,
   "metadata": {},
   "outputs": [],
   "source": [
    "### Calculate the accuracy for these 5 new images. \n",
    "### For example, if the model predicted 1 out of 5 signs correctly, it's 20% accurate on these new images.\n",
    "BATCH_SIZE=3\n",
    "with tf.Session() as sess:\n",
    "    saver.restore(sess, './lenet')\n",
    "    \n",
    "    accuracy = evaluate(internetImages, internetAnswers)\n",
    "    print(\"Accuracy = {:.3f}\".format(accuracy))\n",
    "    print()"
   ]
  },
  {
   "cell_type": "markdown",
   "metadata": {},
   "source": [
    "### Output Top 5 Softmax Probabilities For Each Image Found on the Web"
   ]
  },
  {
   "cell_type": "markdown",
   "metadata": {},
   "source": [
    "For each of the new images, print out the model's softmax probabilities to show the **certainty** of the model's predictions (limit the output to the top 5 probabilities for each image). [`tf.nn.top_k`](https://www.tensorflow.org/versions/r0.12/api_docs/python/nn.html#top_k) could prove helpful here. \n",
    "\n",
    "The example below demonstrates how tf.nn.top_k can be used to find the top k predictions for each image.\n",
    "\n",
    "`tf.nn.top_k` will return the values and indices (class ids) of the top k predictions. So if k=3, for each sign, it'll return the 3 largest probabilities (out of a possible 43) and the correspoding class ids.\n",
    "\n",
    "Take this numpy array as an example. The values in the array represent predictions. The array contains softmax probabilities for five candidate images with six possible classes. `tf.nn.top_k` is used to choose the three classes with the highest probability:\n",
    "\n",
    "```\n",
    "# (5, 6) array\n",
    "a = np.array([[ 0.24879643,  0.07032244,  0.12641572,  0.34763842,  0.07893497,\n",
    "         0.12789202],\n",
    "       [ 0.28086119,  0.27569815,  0.08594638,  0.0178669 ,  0.18063401,\n",
    "         0.15899337],\n",
    "       [ 0.26076848,  0.23664738,  0.08020603,  0.07001922,  0.1134371 ,\n",
    "         0.23892179],\n",
    "       [ 0.11943333,  0.29198961,  0.02605103,  0.26234032,  0.1351348 ,\n",
    "         0.16505091],\n",
    "       [ 0.09561176,  0.34396535,  0.0643941 ,  0.16240774,  0.24206137,\n",
    "         0.09155967]])\n",
    "```\n",
    "\n",
    "Running it through `sess.run(tf.nn.top_k(tf.constant(a), k=3))` produces:\n",
    "\n",
    "```\n",
    "TopKV2(values=array([[ 0.34763842,  0.24879643,  0.12789202],\n",
    "       [ 0.28086119,  0.27569815,  0.18063401],\n",
    "       [ 0.26076848,  0.23892179,  0.23664738],\n",
    "       [ 0.29198961,  0.26234032,  0.16505091],\n",
    "       [ 0.34396535,  0.24206137,  0.16240774]]), indices=array([[3, 0, 5],\n",
    "       [0, 1, 4],\n",
    "       [0, 5, 1],\n",
    "       [1, 3, 5],\n",
    "       [1, 4, 3]], dtype=int32))\n",
    "```\n",
    "\n",
    "Looking just at the first row we get `[ 0.34763842,  0.24879643,  0.12789202]`, you can confirm these are the 3 largest probabilities in `a`. You'll also notice `[3, 0, 5]` are the corresponding indices."
   ]
  },
  {
   "cell_type": "code",
   "execution_count": null,
   "metadata": {
    "collapsed": true
   },
   "outputs": [],
   "source": [
    "### Print out the top five softmax probabilities for the predictions on the German traffic sign images found on the web. \n",
    "### Feel free to use as many code cells as needed."
   ]
  },
  {
   "cell_type": "code",
   "execution_count": null,
   "metadata": {},
   "outputs": [],
   "source": [
    "with tf.Session() as sess:\n",
    "    saver.restore(sess, './lenet')\n",
    "    test = sess.run(logits, feed_dict={x: internetImages, y: internetAnswers, keep_prob_conv: 1.0, keep_prob_fullConn: 1.0})\n",
    "    test= tf.nn.softmax(test)\n",
    "    test = tf.nn.top_k(test, k=5)\n",
    "    answers = sess.run(test)\n",
    "print(answers.values)\n",
    "print(answers.indices)\n",
    "print(internetAnswers)"
   ]
  },
  {
   "cell_type": "markdown",
   "metadata": {},
   "source": [
    "### Project Writeup\n",
    "\n",
    "Once you have completed the code implementation, document your results in a project writeup using this [template](https://github.com/udacity/CarND-Traffic-Sign-Classifier-Project/blob/master/writeup_template.md) as a guide. The writeup can be in a markdown or pdf file. "
   ]
  },
  {
   "cell_type": "markdown",
   "metadata": {},
   "source": [
    "> **Note**: Once you have completed all of the code implementations and successfully answered each question above, you may finalize your work by exporting the iPython Notebook as an HTML document. You can do this by using the menu above and navigating to  \\n\",\n",
    "    \"**File -> Download as -> HTML (.html)**. Include the finished document along with this notebook as your submission."
   ]
  },
  {
   "cell_type": "markdown",
   "metadata": {},
   "source": [
    "---\n",
    "\n",
    "## Step 4 (Optional): Visualize the Neural Network's State with Test Images\n",
    "\n",
    " This Section is not required to complete but acts as an additional excersise for understaning the output of a neural network's weights. While neural networks can be a great learning device they are often referred to as a black box. We can understand what the weights of a neural network look like better by plotting their feature maps. After successfully training your neural network you can see what it's feature maps look like by plotting the output of the network's weight layers in response to a test stimuli image. From these plotted feature maps, it's possible to see what characteristics of an image the network finds interesting. For a sign, maybe the inner network feature maps react with high activation to the sign's boundary outline or to the contrast in the sign's painted symbol.\n",
    "\n",
    " Provided for you below is the function code that allows you to get the visualization output of any tensorflow weight layer you want. The inputs to the function should be a stimuli image, one used during training or a new one you provided, and then the tensorflow variable name that represents the layer's state during the training process, for instance if you wanted to see what the [LeNet lab's](https://classroom.udacity.com/nanodegrees/nd013/parts/fbf77062-5703-404e-b60c-95b78b2f3f9e/modules/6df7ae49-c61c-4bb2-a23e-6527e69209ec/lessons/601ae704-1035-4287-8b11-e2c2716217ad/concepts/d4aca031-508f-4e0b-b493-e7b706120f81) feature maps looked like for it's second convolutional layer you could enter conv2 as the tf_activation variable.\n",
    "\n",
    "For an example of what feature map outputs look like, check out NVIDIA's results in their paper [End-to-End Deep Learning for Self-Driving Cars](https://devblogs.nvidia.com/parallelforall/deep-learning-self-driving-cars/) in the section Visualization of internal CNN State. NVIDIA was able to show that their network's inner weights had high activations to road boundary lines by comparing feature maps from an image with a clear path to one without. Try experimenting with a similar test to show that your trained network's weights are looking for interesting features, whether it's looking at differences in feature maps from images with or without a sign, or even what feature maps look like in a trained network vs a completely untrained one on the same sign image.\n",
    "\n",
    "<figure>\n",
    " <img src=\"visualize_cnn.png\" width=\"380\" alt=\"Combined Image\" />\n",
    " <figcaption>\n",
    " <p></p> \n",
    " <p style=\"text-align: center;\"> Your output should look something like this (above)</p> \n",
    " </figcaption>\n",
    "</figure>\n",
    " <p></p> \n"
   ]
  },
  {
   "cell_type": "code",
   "execution_count": null,
   "metadata": {
    "collapsed": true
   },
   "outputs": [],
   "source": [
    "### Visualize your network's feature maps here.\n",
    "### Feel free to use as many code cells as needed.\n",
    "\n",
    "# image_input: the test image being fed into the network to produce the feature maps\n",
    "# tf_activation: should be a tf variable name used during your training procedure that represents the calculated state of a specific weight layer\n",
    "# activation_min/max: can be used to view the activation contrast in more detail, by default matplot sets min and max to the actual min and max values of the output\n",
    "# plt_num: used to plot out multiple different weight feature map sets on the same block, just extend the plt number for each new feature map entry\n",
    "\n",
    "def outputFeatureMap(image_input, tf_activation, activation_min=-1, activation_max=-1 ,plt_num=1):\n",
    "    # Here make sure to preprocess your image_input in a way your network expects\n",
    "    # with size, normalization, ect if needed\n",
    "    # image_input =\n",
    "    # Note: x should be the same name as your network's tensorflow data placeholder variable\n",
    "    # If you get an error tf_activation is not defined it may be having trouble accessing the variable from inside a function\n",
    "    activation = tf_activation.eval(session=sess,feed_dict={x : image_input})\n",
    "    featuremaps = activation.shape[3]\n",
    "    plt.figure(plt_num, figsize=(15,15))\n",
    "    for featuremap in range(featuremaps):\n",
    "        plt.subplot(6,8, featuremap+1) # sets the number of feature maps to show on each row and column\n",
    "        plt.title('FeatureMap ' + str(featuremap)) # displays the feature map number\n",
    "        if activation_min != -1 & activation_max != -1:\n",
    "            plt.imshow(activation[0,:,:, featuremap], interpolation=\"nearest\", vmin =activation_min, vmax=activation_max, cmap=\"gray\")\n",
    "        elif activation_max != -1:\n",
    "            plt.imshow(activation[0,:,:, featuremap], interpolation=\"nearest\", vmax=activation_max, cmap=\"gray\")\n",
    "        elif activation_min !=-1:\n",
    "            plt.imshow(activation[0,:,:, featuremap], interpolation=\"nearest\", vmin=activation_min, cmap=\"gray\")\n",
    "        else:\n",
    "            plt.imshow(activation[0,:,:, featuremap], interpolation=\"nearest\", cmap=\"gray\")"
   ]
  }
 ],
 "metadata": {
  "anaconda-cloud": {},
  "kernelspec": {
   "display_name": "Python 3",
   "language": "python",
   "name": "python3"
  },
  "language_info": {
   "codemirror_mode": {
    "name": "ipython",
    "version": 3
   },
   "file_extension": ".py",
   "mimetype": "text/x-python",
   "name": "python",
   "nbconvert_exporter": "python",
   "pygments_lexer": "ipython3",
   "version": "3.5.2"
  },
  "widgets": {
   "state": {},
   "version": "1.1.2"
  }
 },
 "nbformat": 4,
 "nbformat_minor": 1
}

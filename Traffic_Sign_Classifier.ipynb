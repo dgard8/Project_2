{
 "cells": [
  {
   "cell_type": "markdown",
   "metadata": {},
   "source": [
    "# Self-Driving Car Engineer Nanodegree\n",
    "\n",
    "## Deep Learning\n",
    "\n",
    "## Project: Build a Traffic Sign Recognition Classifier\n",
    "\n",
    "In this notebook, a template is provided for you to implement your functionality in stages, which is required to successfully complete this project. If additional code is required that cannot be included in the notebook, be sure that the Python code is successfully imported and included in your submission if necessary. \n",
    "\n",
    "> **Note**: Once you have completed all of the code implementations, you need to finalize your work by exporting the iPython Notebook as an HTML document. Before exporting the notebook to html, all of the code cells need to have been run so that reviewers can see the final implementation and output. You can then export the notebook by using the menu above and navigating to  \\n\",\n",
    "    \"**File -> Download as -> HTML (.html)**. Include the finished document along with this notebook as your submission. \n",
    "\n",
    "In addition to implementing code, there is a writeup to complete. The writeup should be completed in a separate file, which can be either a markdown file or a pdf document. There is a [write up template](https://github.com/udacity/CarND-Traffic-Sign-Classifier-Project/blob/master/writeup_template.md) that can be used to guide the writing process. Completing the code template and writeup template will cover all of the [rubric points](https://review.udacity.com/#!/rubrics/481/view) for this project.\n",
    "\n",
    "The [rubric](https://review.udacity.com/#!/rubrics/481/view) contains \"Stand Out Suggestions\" for enhancing the project beyond the minimum requirements. The stand out suggestions are optional. If you decide to pursue the \"stand out suggestions\", you can include the code in this Ipython notebook and also discuss the results in the writeup file."
   ]
  },
  {
   "cell_type": "code",
   "execution_count": 1,
   "metadata": {
    "collapsed": true
   },
   "outputs": [],
   "source": [
    "signNames = []\n",
    "signNames.append(\"Speed limit (20km/h)\")\n",
    "signNames.append(\"Speed limit (30km/h)\")\n",
    "signNames.append(\"Speed limit (50km/h)\")\n",
    "signNames.append(\"Speed limit (60km/h)\")\n",
    "signNames.append(\"Speed limit (70km/h)\")\n",
    "signNames.append(\"Speed limit (80km/h)\")\n",
    "signNames.append(\"End of speed limit (80km/h)\")\n",
    "signNames.append(\"Speed limit (100km/h)\")\n",
    "signNames.append(\"Speed limit (120km/h)\")\n",
    "signNames.append(\"No passing\")\n",
    "signNames.append(\"No passing for vehicles over 3.5 metric tons\")\n",
    "signNames.append(\"Right-of-way at the next intersection\")\n",
    "signNames.append(\"Priority road\")\n",
    "signNames.append(\"Yield\")\n",
    "signNames.append(\"Stop\")\n",
    "signNames.append(\"No vehicles\")\n",
    "signNames.append(\"Vehicles over 3.5 metric tons prohibited\")\n",
    "signNames.append(\"No entry\")\n",
    "signNames.append(\"General caution\")\n",
    "signNames.append(\"Dangerous curve to the left\")\n",
    "signNames.append(\"Dangerous curve to the right\")\n",
    "signNames.append(\"Double curve\")\n",
    "signNames.append(\"Bumpy road\")\n",
    "signNames.append(\"Slippery road\")\n",
    "signNames.append(\"Road narrows on the right\")\n",
    "signNames.append(\"Road work\")\n",
    "signNames.append(\"Traffic signals\")\n",
    "signNames.append(\"Pedestrians\")\n",
    "signNames.append(\"Children crossing\")\n",
    "signNames.append(\"Bicycles crossing\")\n",
    "signNames.append(\"Beware of ice/snow\")\n",
    "signNames.append(\"Wild animals crossing\")\n",
    "signNames.append(\"End of all speed and passing limits\")\n",
    "signNames.append(\"Turn right ahead\")\n",
    "signNames.append(\"Turn left ahead\")\n",
    "signNames.append(\"Ahead only\")\n",
    "signNames.append(\"Go straight or right\")\n",
    "signNames.append(\"Go straight or left\")\n",
    "signNames.append(\"Keep right\")\n",
    "signNames.append(\"Keep left\")\n",
    "signNames.append(\"Roundabout mandatory\")\n",
    "signNames.append(\"End of no passing\")\n",
    "signNames.append(\"End of no passing by vehicles over 3.5 metric tons\")"
   ]
  },
  {
   "cell_type": "markdown",
   "metadata": {},
   "source": [
    "---\n",
    "## Step 0: Load The Data"
   ]
  },
  {
   "cell_type": "code",
   "execution_count": 2,
   "metadata": {
    "collapsed": true
   },
   "outputs": [],
   "source": [
    "import pickle\n",
    "\n",
    "training_file = 'traffic-signs-data/train.p'\n",
    "validation_file = 'traffic-signs-data/valid.p'\n",
    "testing_file = 'traffic-signs-data/test.p'\n",
    "\n",
    "with open(training_file, mode='rb') as f:\n",
    "    train = pickle.load(f)\n",
    "with open(validation_file, mode='rb') as f:\n",
    "    valid = pickle.load(f)\n",
    "with open(testing_file, mode='rb') as f:\n",
    "    test = pickle.load(f)\n",
    "    \n",
    "X_train, y_train = train['features'], train['labels']\n",
    "X_valid, y_valid = valid['features'], valid['labels']\n",
    "X_test, y_test = test['features'], test['labels']"
   ]
  },
  {
   "cell_type": "markdown",
   "metadata": {},
   "source": [
    "---\n",
    "\n",
    "## Step 1: Dataset Summary & Exploration\n",
    "\n",
    "The pickled data is a dictionary with 4 key/value pairs:\n",
    "\n",
    "- `'features'` is a 4D array containing raw pixel data of the traffic sign images, (num examples, width, height, channels).\n",
    "- `'labels'` is a 1D array containing the label/class id of the traffic sign. The file `signnames.csv` contains id -> name mappings for each id.\n",
    "- `'sizes'` is a list containing tuples, (width, height) representing the original width and height the image.\n",
    "- `'coords'` is a list containing tuples, (x1, y1, x2, y2) representing coordinates of a bounding box around the sign in the image. **THESE COORDINATES ASSUME THE ORIGINAL IMAGE. THE PICKLED DATA CONTAINS RESIZED VERSIONS (32 by 32) OF THESE IMAGES**\\"
   ]
  },
  {
   "cell_type": "markdown",
   "metadata": {},
   "source": [
    "### Provide a Basic Summary of the Data Set Using Python, Numpy and/or Pandas"
   ]
  },
  {
   "cell_type": "code",
   "execution_count": 3,
   "metadata": {},
   "outputs": [
    {
     "name": "stdout",
     "output_type": "stream",
     "text": [
      "Number of training examples = 34799\n",
      "Number of validation examples = 4410\n",
      "Number of testing examples = 12630\n",
      "Image data shape = (32, 32, 3)\n",
      "Number of classes = 43\n"
     ]
    }
   ],
   "source": [
    "import numpy as np\n",
    "\n",
    "n_train = len(X_train)\n",
    "n_validation = len(X_valid)\n",
    "n_test = len(X_test)\n",
    "image_shape = np.shape(X_train[0])\n",
    "n_classes = len(np.unique(y_train))\n",
    "\n",
    "print(\"Number of training examples =\", n_train)\n",
    "print(\"Number of validation examples =\", n_validation)\n",
    "print(\"Number of testing examples =\", n_test)\n",
    "print(\"Image data shape =\", image_shape)\n",
    "print(\"Number of classes =\", n_classes)"
   ]
  },
  {
   "cell_type": "markdown",
   "metadata": {},
   "source": [
    "### Include an exploratory visualization of the dataset"
   ]
  },
  {
   "cell_type": "code",
   "execution_count": 7,
   "metadata": {},
   "outputs": [
    {
     "name": "stdout",
     "output_type": "stream",
     "text": [
      "26\n",
      "Traffic signals\n"
     ]
    },
    {
     "data": {
      "text/plain": [
       "<matplotlib.figure.Figure at 0x7feed08180b8>"
      ]
     },
     "execution_count": 7,
     "metadata": {},
     "output_type": "execute_result"
    },
    {
     "data": {
      "image/png": "[encoded data removed]",
      "text/plain": [
       "<matplotlib.figure.Figure at 0x7feed07fe748>"
      ]
     },
     "metadata": {},
     "output_type": "display_data"
    },
    {
     "data": {
      "text/plain": [
       "<matplotlib.figure.Figure at 0x7feed08180b8>"
      ]
     },
     "metadata": {},
     "output_type": "display_data"
    }
   ],
   "source": [
    "import matplotlib.pyplot as plt\n",
    "import random\n",
    "\n",
    "# see a random image from the training set\n",
    "\n",
    "%matplotlib inline\n",
    "index = random.randint(0,len(X_train))\n",
    "plt.figure()\n",
    "plt.imshow(X_train[index])\n",
    "print(y_train[index])\n",
    "print(signNames[y_train[index]])\n",
    "plt.figure()"
   ]
  },
  {
   "cell_type": "code",
   "execution_count": 8,
   "metadata": {},
   "outputs": [
    {
     "name": "stdout",
     "output_type": "stream",
     "text": [
      "Train Data\n"
     ]
    },
    {
     "data": {
      "image/png": "[encoded data removed]",
      "text/plain": [
       "<matplotlib.figure.Figure at 0x7feed08a37f0>"
      ]
     },
     "metadata": {},
     "output_type": "display_data"
    }
   ],
   "source": [
    "plt.hist(y_train, bins=43)\n",
    "print(\"Train Data\")"
   ]
  },
  {
   "cell_type": "code",
   "execution_count": 9,
   "metadata": {},
   "outputs": [
    {
     "name": "stdout",
     "output_type": "stream",
     "text": [
      "Validation Data\n"
     ]
    },
    {
     "data": {
      "image/png": "[encoded data removed]",
      "text/plain": [
       "<matplotlib.figure.Figure at 0x7feed06e17b8>"
      ]
     },
     "metadata": {},
     "output_type": "display_data"
    }
   ],
   "source": [
    "plt.hist(y_valid, bins=43)\n",
    "print(\"Validation Data\")"
   ]
  },
  {
   "cell_type": "code",
   "execution_count": 10,
   "metadata": {},
   "outputs": [
    {
     "name": "stdout",
     "output_type": "stream",
     "text": [
      "Test Data\n"
     ]
    },
    {
     "data": {
      "image/png": "[encoded data removed]",
      "text/plain": [
       "<matplotlib.figure.Figure at 0x7feed0666588>"
      ]
     },
     "metadata": {},
     "output_type": "display_data"
    }
   ],
   "source": [
    "plt.hist(y_test, bins=43)\n",
    "print(\"Test Data\")"
   ]
  },
  {
   "cell_type": "code",
   "execution_count": 11,
   "metadata": {},
   "outputs": [
    {
     "name": "stdout",
     "output_type": "stream",
     "text": [
      "Speed limit (20km/h)................................ 398137 [146160 127467 124509]\n",
      "Speed limit (30km/h)................................ 328939 [119700 104886 104352]\n",
      "Speed limit (50km/h)................................ 281139 [104477  90484  86178]\n",
      "Speed limit (60km/h)................................ 209766 [72227 67498 70040]\n",
      "Speed limit (70km/h)................................ 223037 [80951 71142 70943]\n",
      "Speed limit (80km/h)................................ 180081 [61885 57364 60831]\n",
      "End of speed limit (80km/h)......................... 126201 [41792 41338 43069]\n",
      "Speed limit (100km/h)............................... 181965 [63268 57902 60794]\n",
      "Speed limit (120km/h)............................... 156047 [54046 48775 53226]\n",
      "No passing.......................................... 300414 [110981  95263  94169]\n",
      "No passing for vehicles over 3.5 metric tons........ 154386 [53943 48371 52072]\n",
      "Right-of-way at the next intersection............... 278437 [99142 89577 89718]\n",
      "Priority road....................................... 270054 [94343 89162 86548]\n",
      "Yield............................................... 317042 [111342 103041 102658]\n",
      "Stop................................................ 329827 [127845 102505  99476]\n",
      "No vehicles......................................... 305711 [107735  97919 100057]\n",
      "Vehicles over 3.5 metric tons prohibited............ 292431 [ 98528  92974 100928]\n",
      "No entry............................................ 221807 [85177 67901 68728]\n",
      "General caution..................................... 288517 [102114  92622  93779]\n",
      "Dangerous curve to the left......................... 226698 [84295 72975 69427]\n",
      "Dangerous curve to the right........................ 148391 [51138 47194 50059]\n",
      "Double curve........................................ 227113 [87489 72213 67410]\n",
      "Bumpy road.......................................... 312228 [112527 101732  97968]\n",
      "Slippery road....................................... 240102 [87974 77486 74641]\n",
      "Road narrows on the right........................... 271898 [98243 86989 86666]\n",
      "Road work........................................... 258162 [92119 81917 84126]\n",
      "Traffic signals..................................... 210692 [77849 68586 64256]\n",
      "Pedestrians......................................... 230271 [85939 72797 71534]\n",
      "Children crossing................................... 286164 [104433  92156  89574]\n",
      "Bicycles crossing................................... 284624 [103197  92208  89218]\n",
      "Beware of ice/snow.................................. 240423 [78072 76645 85704]\n",
      "Wild animals crossing............................... 197119 [70930 63256 62932]\n",
      "End of all speed and passing limits................. 253834 [86741 84568 82524]\n",
      "Turn right ahead.................................... 245093 [76123 78438 90532]\n",
      "Turn left ahead..................................... 344984 [101874 111254 131856]\n",
      "Ahead only.......................................... 369312 [112420 119345 137546]\n",
      "Go straight or right................................ 282984 [ 86582  91059 105342]\n",
      "Go straight or left................................. 296422 [ 88387  96994 111040]\n",
      "Keep right.......................................... 251904 [77809 80685 93409]\n",
      "Keep left........................................... 257783 [ 73578  82649 101555]\n",
      "Roundabout mandatory................................ 298172 [ 90587  96731 110854]\n",
      "End of no passing................................... 312280 [109268 103078  99934]\n",
      "End of no passing by vehicles over 3.5 metric tons.. 175021 [59643 57789 57588]\n"
     ]
    }
   ],
   "source": [
    "# dominate colors for each sign type\n",
    "for i in range(43):\n",
    "    indices = np.where(y_train == i)[0]\n",
    "    pixelSum = 0    \n",
    "    colors = [0, 0, 0]\n",
    "    for index in indices:\n",
    "        pixelSum += np.sum(X_train[index])\n",
    "        colors += np.sum(np.sum(X_train[index], axis=0), axis=0)\n",
    "    pixelSum /= len(indices)\n",
    "    colors /= len(indices)\n",
    "    print('{:.<52}'.format(signNames[i]), int(pixelSum), colors.astype(int))"
   ]
  },
  {
   "cell_type": "markdown",
   "metadata": {},
   "source": [
    "----\n",
    "\n",
    "## Step 2: Design and Test a Model Architecture"
   ]
  },
  {
   "cell_type": "markdown",
   "metadata": {},
   "source": [
    "### Pre-process the Data Set (normalization, and data augmentation)"
   ]
  },
  {
   "cell_type": "code",
   "execution_count": 12,
   "metadata": {
    "collapsed": true
   },
   "outputs": [],
   "source": [
    "from scipy.ndimage import rotate\n",
    "import random\n",
    "\n",
    "def addRotatedImage(array,image):\n",
    "    newImage = rotate(image,random.randint(-20,20),reshape=False)\n",
    "    array.append(newImage)"
   ]
  },
  {
   "cell_type": "code",
   "execution_count": 13,
   "metadata": {
    "collapsed": true,
    "scrolled": true
   },
   "outputs": [],
   "source": [
    "from collections import Counter\n",
    "\n",
    "rotated_x_train = []\n",
    "rotated_y_train = []\n",
    "\n",
    "counts = Counter(y_train).most_common()\n",
    "biggestCount = counts[0][1]\n",
    "\n",
    "for i in range(len(counts)-1,-1,-1):\n",
    "    index = counts[i][0]\n",
    "    indices = np.where(y_train == index)[0]\n",
    "    for j in range(biggestCount - counts[i][1]):\n",
    "        index = indices[random.randint(0,len(indices)-1)]\n",
    "        addRotatedImage(rotated_x_train, X_train[index])\n",
    "        rotated_y_train.append(y_train[index])"
   ]
  },
  {
   "cell_type": "code",
   "execution_count": 14,
   "metadata": {
    "collapsed": true
   },
   "outputs": [],
   "source": [
    "X_train = np.append(X_train, rotated_x_train, axis=0)\n",
    "y_train = np.append(y_train, rotated_y_train, axis=0)"
   ]
  },
  {
   "cell_type": "code",
   "execution_count": 15,
   "metadata": {},
   "outputs": [
    {
     "name": "stdout",
     "output_type": "stream",
     "text": [
      "Train Data\n"
     ]
    },
    {
     "data": {
      "image/png": "[encoded data removed]",
      "text/plain": [
       "<matplotlib.figure.Figure at 0x7feed07c9710>"
      ]
     },
     "metadata": {},
     "output_type": "display_data"
    }
   ],
   "source": [
    "plt.hist(y_train, bins=43)\n",
    "print(\"Train Data\")"
   ]
  },
  {
   "cell_type": "code",
   "execution_count": 16,
   "metadata": {
    "collapsed": true
   },
   "outputs": [],
   "source": [
    "def preProcess(images):\n",
    "    #grayImages = np.array([cv2.cvtColor(x, cv2.COLOR_RGB2GRAY)[:, :, np.newaxis] for x in images])\n",
    "    #comboImages = addGrayToColor(images, grayImages)\n",
    "    processedImages = (images - [128])/128\n",
    "    return processedImages"
   ]
  },
  {
   "cell_type": "code",
   "execution_count": 17,
   "metadata": {
    "collapsed": true
   },
   "outputs": [],
   "source": [
    "X_train_processed = preProcess(X_train)\n",
    "X_valid_processed = preProcess(X_valid)\n",
    "X_test_processed  = preProcess(X_test)"
   ]
  },
  {
   "cell_type": "code",
   "execution_count": 18,
   "metadata": {},
   "outputs": [
    {
     "name": "stdout",
     "output_type": "stream",
     "text": [
      "[35 38 29]\n",
      "[-0.7265625 -0.703125  -0.7734375]\n"
     ]
    }
   ],
   "source": [
    "# check to make sure the processed numbers look right\n",
    "\n",
    "index1 = random.randint(0,len(X_train)-1)\n",
    "index2 = random.randint(0,len(X_train[index1])-1)\n",
    "index3 = random.randint(0,len(X_train[index1][index2])-1)\n",
    "index4 = random.randint(0,len(X_train[index1][index2][index3])-1)\n",
    "\n",
    "print(X_train[index1][index2][index3])\n",
    "print(X_train_processed[index1][index2][index3])"
   ]
  },
  {
   "cell_type": "markdown",
   "metadata": {},
   "source": [
    "### Model Architecture"
   ]
  },
  {
   "cell_type": "code",
   "execution_count": 19,
   "metadata": {
    "collapsed": true
   },
   "outputs": [],
   "source": [
    "import tensorflow as tf"
   ]
  },
  {
   "cell_type": "code",
   "execution_count": 20,
   "metadata": {
    "collapsed": true
   },
   "outputs": [],
   "source": [
    "def convolutionLayer(inputLayer, inputShape, outputShape, mu, sigma, keep_prob):\n",
    "    \n",
    "    convSize=inputShape[0]-outputShape[0]+1\n",
    "    \n",
    "    weights = tf.Variable(tf.truncated_normal(\n",
    "        shape=(convSize, convSize, inputShape[2], outputShape[2]), mean = mu, stddev = sigma))\n",
    "    bias = tf.Variable(tf.zeros(outputShape[2]))\n",
    "    \n",
    "    layer = tf.nn.conv2d(inputLayer, weights, strides=[1, 1, 1, 1], padding='VALID') + bias\n",
    "    return tf.nn.dropout(layer, keep_prob)\n",
    "\n",
    "def activationLayer(inputLayer, keep_prob):\n",
    "    layer = tf.nn.relu(inputLayer)\n",
    "    return tf.nn.dropout(layer, keep_prob)\n",
    "\n",
    "def poolingLayer(inputLayer, inputShape, outputShape):\n",
    "    strideSize = inputShape[0]/outputShape[0]\n",
    "    return tf.nn.max_pool(inputLayer, \n",
    "        ksize=[1, strideSize, strideSize, 1], strides=[1, strideSize, strideSize, 1], padding='VALID')\n",
    "\n",
    "def fullyConnectedLayer(inputLayer, inputShape, outputShape, mu, sigma, keep_prob):\n",
    "    weights = tf.Variable(tf.truncated_normal(shape=(inputShape, outputShape), mean = mu, stddev = sigma))\n",
    "    bias = tf.Variable(tf.zeros(outputShape))\n",
    "    layer = tf.matmul(inputLayer, weights) + bias\n",
    "    return tf.nn.dropout(layer, keep_prob)"
   ]
  },
  {
   "cell_type": "code",
   "execution_count": 21,
   "metadata": {
    "collapsed": true
   },
   "outputs": [],
   "source": [
    "from tensorflow.contrib.layers import flatten\n",
    "\n",
    "def LeNet(x, keep_prob_conv, keep_prob_fullConn):    \n",
    "    mu = 0\n",
    "    sigma = 0.1\n",
    "    \n",
    "    inputShape=(32, 32, 3)\n",
    "    outputShape=(28, 28, 16)\n",
    "    \n",
    "    conv1 = convolutionLayer(x, inputShape, outputShape, mu, sigma, 1)\n",
    "    conv1 = activationLayer(conv1, keep_prob_conv)\n",
    "    inputShape = outputShape\n",
    "    outputShape = (14, 14, inputShape[2])\n",
    "    conv1 = poolingLayer(conv1, inputShape, outputShape)\n",
    "\n",
    "    inputShape = outputShape\n",
    "    outputShape = (10, 10, 32)\n",
    "    conv2 = convolutionLayer(conv1, inputShape, outputShape, mu, sigma, 1)\n",
    "    conv2 = activationLayer(conv2, keep_prob_conv)\n",
    "    inputShape = outputShape\n",
    "    outputShape = (5, 5, inputShape[2])\n",
    "    conv2 = poolingLayer(conv2, inputShape, outputShape)\n",
    "\n",
    "    inputShape = outputShape\n",
    "    outputShape = inputShape[0]*inputShape[1]*inputShape[2]\n",
    "    fc0 = flatten(conv2)\n",
    "    \n",
    "    inputShape = outputShape\n",
    "    outputShape = 120\n",
    "    fc1 = fullyConnectedLayer(fc0, inputShape, outputShape, mu, sigma, 1)\n",
    "    fc1 = activationLayer(fc1, keep_prob_fullConn)\n",
    "\n",
    "    inputShape = outputShape\n",
    "    outputShape = 84\n",
    "    fc2 = fullyConnectedLayer(fc1, inputShape, outputShape, mu, sigma, 1)\n",
    "    fc2 = activationLayer(fc2, keep_prob_fullConn)\n",
    "\n",
    "    inputShape = outputShape\n",
    "    outputShape = 43\n",
    "    logits = fullyConnectedLayer(fc2, inputShape, outputShape, mu, sigma, 1)\n",
    "    \n",
    "    return logits"
   ]
  },
  {
   "cell_type": "markdown",
   "metadata": {},
   "source": [
    "### Train, Validate and Test the Model"
   ]
  },
  {
   "cell_type": "code",
   "execution_count": 22,
   "metadata": {
    "collapsed": true
   },
   "outputs": [],
   "source": [
    "x = tf.placeholder(tf.float32, (None, 32, 32, 3))\n",
    "y = tf.placeholder(tf.int32, (None))\n",
    "keep_prob_conv = tf.placeholder(tf.float32)\n",
    "keep_prob_fullConn = tf.placeholder(tf.float32)\n",
    "one_hot_y = tf.one_hot(y, 43)"
   ]
  },
  {
   "cell_type": "code",
   "execution_count": 23,
   "metadata": {
    "collapsed": true
   },
   "outputs": [],
   "source": [
    "rate = 0.001\n",
    "logits = LeNet(x, keep_prob_conv, keep_prob_fullConn)\n",
    "cross_entropy = tf.nn.softmax_cross_entropy_with_logits(labels=one_hot_y, logits=logits)\n",
    "loss_operation = tf.reduce_mean(cross_entropy)\n",
    "optimizer = tf.train.AdamOptimizer(learning_rate = rate)\n",
    "training_operation = optimizer.minimize(loss_operation)"
   ]
  },
  {
   "cell_type": "code",
   "execution_count": 24,
   "metadata": {
    "collapsed": true
   },
   "outputs": [],
   "source": [
    "correct_prediction = tf.equal(tf.argmax(logits, 1), tf.argmax(one_hot_y, 1))\n",
    "accuracy_operation = tf.reduce_mean(tf.cast(correct_prediction, tf.float32))\n",
    "saver = tf.train.Saver()\n",
    "\n",
    "def evaluate(X_data, y_data):\n",
    "    num_examples = len(X_data)\n",
    "    total_accuracy = 0\n",
    "    sess = tf.get_default_session()\n",
    "    for offset in range(0, num_examples, BATCH_SIZE):\n",
    "        batch_x, batch_y = X_data[offset:offset+BATCH_SIZE], y_data[offset:offset+BATCH_SIZE]\n",
    "        accuracy = sess.run(accuracy_operation, feed_dict={x: batch_x, y: batch_y, \n",
    "                                                           keep_prob_conv: 1.0, keep_prob_fullConn: 1.0})\n",
    "        total_accuracy += (accuracy * len(batch_x))\n",
    "    return total_accuracy / num_examples"
   ]
  },
  {
   "cell_type": "code",
   "execution_count": 25,
   "metadata": {
    "collapsed": true
   },
   "outputs": [],
   "source": [
    "EPOCHS = 7\n",
    "BATCH_SIZE = 128"
   ]
  },
  {
   "cell_type": "code",
   "execution_count": 26,
   "metadata": {},
   "outputs": [
    {
     "name": "stdout",
     "output_type": "stream",
     "text": [
      "Training...\n",
      "\n",
      "EPOCH 1 ...\n",
      "Train Accuracy = 0.883\n",
      "Validation Accuracy = 0.823\n",
      "\n",
      "EPOCH 2 ...\n",
      "Train Accuracy = 0.961\n",
      "Validation Accuracy = 0.921\n",
      "\n",
      "EPOCH 3 ...\n",
      "Train Accuracy = 0.971\n",
      "Validation Accuracy = 0.927\n",
      "\n",
      "EPOCH 4 ...\n",
      "Train Accuracy = 0.985\n",
      "Validation Accuracy = 0.945\n",
      "\n",
      "EPOCH 5 ...\n",
      "Train Accuracy = 0.989\n",
      "Validation Accuracy = 0.949\n",
      "\n",
      "EPOCH 6 ...\n",
      "Train Accuracy = 0.992\n",
      "Validation Accuracy = 0.958\n",
      "\n",
      "EPOCH 7 ...\n",
      "Train Accuracy = 0.991\n",
      "Validation Accuracy = 0.955\n",
      "\n",
      "Model saved\n"
     ]
    }
   ],
   "source": [
    "from sklearn.utils import shuffle\n",
    "\n",
    "with tf.Session() as sess:\n",
    "    sess.run(tf.global_variables_initializer())\n",
    "    num_examples = len(X_train_processed)\n",
    "    \n",
    "    print(\"Training...\")\n",
    "    print()\n",
    "    for i in range(EPOCHS):\n",
    "        X_train_processed, X_train, y_train = shuffle(X_train_processed, X_train, y_train)\n",
    "        for offset in range(0, num_examples, BATCH_SIZE):\n",
    "            end = offset + BATCH_SIZE\n",
    "            batch_x, batch_y = X_train_processed[offset:end], y_train[offset:end]\n",
    "            sess.run(training_operation, feed_dict={x: batch_x, y: batch_y, \n",
    "                                                    keep_prob_conv: 0.8, keep_prob_fullConn: 0.5})\n",
    "            \n",
    "        print(\"EPOCH {} ...\".format(i+1))\n",
    "        \n",
    "        train_accuracy = evaluate(X_train_processed, y_train)\n",
    "        print(\"Train Accuracy = {:.3f}\".format(train_accuracy))\n",
    "        validation_accuracy = evaluate(X_valid_processed, y_valid)\n",
    "        print(\"Validation Accuracy = {:.3f}\".format(validation_accuracy))\n",
    "        print()\n",
    "        \n",
    "    saver.save(sess, './lenet')\n",
    "    print(\"Model saved\")"
   ]
  },
  {
   "cell_type": "code",
   "execution_count": 45,
   "metadata": {},
   "outputs": [
    {
     "name": "stdout",
     "output_type": "stream",
     "text": [
      "Test Accuracy = 0.917\n",
      "\n"
     ]
    }
   ],
   "source": [
    "with tf.Session() as sess:\n",
    "    saver.restore(sess, './lenet')\n",
    "    \n",
    "    accuracy = evaluate(X_test, y_test)\n",
    "    print(\"Test Accuracy = {:.3f}\".format(accuracy))\n",
    "    print()"
   ]
  },
  {
   "cell_type": "markdown",
   "metadata": {},
   "source": [
    "---\n",
    "\n",
    "## Step 3: Test a Model on New Images"
   ]
  },
  {
   "cell_type": "markdown",
   "metadata": {},
   "source": [
    "### Load and Output the Images"
   ]
  },
  {
   "cell_type": "code",
   "execution_count": 47,
   "metadata": {
    "collapsed": true
   },
   "outputs": [],
   "source": [
    "internetImages = []\n",
    "internetAnswers = []"
   ]
  },
  {
   "cell_type": "code",
   "execution_count": 48,
   "metadata": {
    "collapsed": true
   },
   "outputs": [],
   "source": [
    "import matplotlib.image as mpimg\n",
    "import cv2\n",
    "\n",
    "def make32By32(image):\n",
    "    dim = (32, 32)\n",
    "    return cv2.resize(image, dim, interpolation = cv2.INTER_AREA)\n",
    "\n",
    "def printImage(image):\n",
    "    plt.figure()\n",
    "    plt.imshow(image)\n",
    "\n",
    "def addToAnswers(image,signName):\n",
    "    internetImages.append(image)\n",
    "    internetAnswers.append(signNames.index(signName))\n",
    "    \n",
    "def removeGrayScale(image):\n",
    "    newImage = []\n",
    "    for i in image:\n",
    "        row = []\n",
    "        for j in i:\n",
    "            pixel = [j[0], j[1], j[2]]\n",
    "            row.append(pixel)\n",
    "        newImage.append(row)\n",
    "    return newImage"
   ]
  },
  {
   "cell_type": "code",
   "execution_count": 49,
   "metadata": {},
   "outputs": [
    {
     "data": {
      "image/png": "[encoded data removed]",
      "text/plain": [
       "<matplotlib.figure.Figure at 0x7feeae64db38>"
      ]
     },
     "metadata": {},
     "output_type": "display_data"
    }
   ],
   "source": [
    "image = mpimg.imread('downloaded-signs/70kmh.png')\n",
    "crop_image = image[95:555, 695:1155]\n",
    "resized_image = make32By32(crop_image)\n",
    "printImage(resized_image)\n",
    "addToAnswers(resized_image, \"Speed limit (70km/h)\")"
   ]
  },
  {
   "cell_type": "code",
   "execution_count": 50,
   "metadata": {},
   "outputs": [
    {
     "data": {
      "image/png": "[encoded data removed]",
      "text/plain": [
       "<matplotlib.figure.Figure at 0x7feeae6dcb70>"
      ]
     },
     "metadata": {},
     "output_type": "display_data"
    }
   ],
   "source": [
    "image = mpimg.imread('downloaded-signs/noPassingOverTons.png')\n",
    "resized_image = make32By32(image)\n",
    "printImage(resized_image)\n",
    "addToAnswers(resized_image,  \"No passing for vehicles over 3.5 metric tons\")"
   ]
  },
  {
   "cell_type": "code",
   "execution_count": 51,
   "metadata": {},
   "outputs": [
    {
     "data": {
      "image/png": "[encoded data removed]",
      "text/plain": [
       "<matplotlib.figure.Figure at 0x7feeae619c18>"
      ]
     },
     "metadata": {},
     "output_type": "display_data"
    }
   ],
   "source": [
    "image = mpimg.imread('downloaded-signs/roadNarrowsOnRight.jpg')\n",
    "resized_image = make32By32(image)\n",
    "printImage(resized_image)\n",
    "addToAnswers(resized_image, \"Road narrows on the right\")"
   ]
  },
  {
   "cell_type": "code",
   "execution_count": 52,
   "metadata": {},
   "outputs": [
    {
     "data": {
      "image/png": "[encoded data removed]",
      "text/plain": [
       "<matplotlib.figure.Figure at 0x7feeaf6d3438>"
      ]
     },
     "metadata": {},
     "output_type": "display_data"
    }
   ],
   "source": [
    "image = mpimg.imread('downloaded-signs/roadWork.png')\n",
    "resized_image = make32By32(image)\n",
    "printImage(resized_image)\n",
    "addToAnswers(removeGrayScale(resized_image), \"Road work\")"
   ]
  },
  {
   "cell_type": "code",
   "execution_count": 53,
   "metadata": {},
   "outputs": [
    {
     "data": {
      "image/png": "[encoded data removed]",
      "text/plain": [
       "<matplotlib.figure.Figure at 0x7feeaf7fc898>"
      ]
     },
     "metadata": {},
     "output_type": "display_data"
    }
   ],
   "source": [
    "image = mpimg.imread('downloaded-signs/stop.png')\n",
    "crop_image = image[60:250, 100:320]\n",
    "resized_image = make32By32(crop_image)\n",
    "printImage(resized_image)\n",
    "addToAnswers(removeGrayScale(resized_image), \"Stop\")"
   ]
  },
  {
   "cell_type": "code",
   "execution_count": 54,
   "metadata": {},
   "outputs": [
    {
     "data": {
      "image/png": "[encoded data removed]",
      "text/plain": [
       "<matplotlib.figure.Figure at 0x7feeaf78b320>"
      ]
     },
     "metadata": {},
     "output_type": "display_data"
    }
   ],
   "source": [
    "image = mpimg.imread('downloaded-signs/120km.jpg')\n",
    "crop_image = image[10:130, 70:190]\n",
    "resized_image = make32By32(crop_image)\n",
    "printImage(resized_image)\n",
    "addToAnswers(removeGrayScale(resized_image), \"Speed limit (120km/h)\")"
   ]
  },
  {
   "cell_type": "code",
   "execution_count": 55,
   "metadata": {},
   "outputs": [
    {
     "data": {
      "image/png": "[encoded data removed]",
      "text/plain": [
       "<matplotlib.figure.Figure at 0x7feeb4063a20>"
      ]
     },
     "metadata": {},
     "output_type": "display_data"
    }
   ],
   "source": [
    "image = mpimg.imread('downloaded-signs/keepRight.jpg')\n",
    "crop_image = image[95:135, 35:75]\n",
    "resized_image = make32By32(crop_image)\n",
    "printImage(resized_image)\n",
    "addToAnswers(removeGrayScale(resized_image), \"Keep right\")"
   ]
  },
  {
   "cell_type": "markdown",
   "metadata": {},
   "source": [
    "### Predict the Sign Type for Each Image"
   ]
  },
  {
   "cell_type": "code",
   "execution_count": 56,
   "metadata": {
    "collapsed": true
   },
   "outputs": [],
   "source": [
    "internetImages=np.array(internetImages)\n",
    "internetAnswers=np.array(internetAnswers)\n",
    "internetImages = preProcess(internetImages)"
   ]
  },
  {
   "cell_type": "code",
   "execution_count": 57,
   "metadata": {},
   "outputs": [
    {
     "name": "stdout",
     "output_type": "stream",
     "text": [
      "correct answer:  Speed limit (70km/h)\n",
      "network answer:  No passing\n",
      "\n",
      "correct answer:  No passing for vehicles over 3.5 metric tons\n",
      "network answer:  No passing\n",
      "\n",
      "correct answer:  Road narrows on the right\n",
      "network answer:  General caution\n",
      "\n",
      "correct answer:  Road work\n",
      "network answer:  No passing\n",
      "\n",
      "correct answer:  Stop\n",
      "network answer:  Speed limit (70km/h)\n",
      "\n",
      "correct answer:  Speed limit (120km/h)\n",
      "network answer:  Speed limit (100km/h)\n",
      "\n",
      "correct answer:  Keep right\n",
      "network answer:  Keep right\n",
      "\n"
     ]
    }
   ],
   "source": [
    "with tf.Session() as sess:\n",
    "    saver.restore(sess, './lenet')\n",
    "    test = sess.run(logits, feed_dict={x: internetImages, y: internetAnswers, keep_prob_conv: 1.0, keep_prob_fullConn: 1.0})\n",
    "    test = tf.nn.softmax(test)\n",
    "    test = tf.nn.top_k(test, k=1)\n",
    "    answers = sess.run(test)\n",
    "    \n",
    "for i in range(len(internetAnswers)):\n",
    "    print(\"correct answer: \",signNames[internetAnswers[i]])\n",
    "    print(\"network answer: \",signNames[answers.indices[i][0]])\n",
    "    print()"
   ]
  },
  {
   "cell_type": "markdown",
   "metadata": {},
   "source": [
    "### Analyze Performance"
   ]
  },
  {
   "cell_type": "code",
   "execution_count": 42,
   "metadata": {},
   "outputs": [
    {
     "name": "stdout",
     "output_type": "stream",
     "text": [
      "Accuracy = 0.143\n",
      "\n"
     ]
    }
   ],
   "source": [
    "with tf.Session() as sess:\n",
    "    saver.restore(sess, './lenet')\n",
    "    \n",
    "    accuracy = evaluate(internetImages, internetAnswers)\n",
    "    print(\"Accuracy = {:.3f}\".format(accuracy))\n",
    "    print()"
   ]
  },
  {
   "cell_type": "markdown",
   "metadata": {},
   "source": [
    "### Output Top 5 Softmax Probabilities For Each Image Found on the Web"
   ]
  },
  {
   "cell_type": "code",
   "execution_count": 43,
   "metadata": {
    "collapsed": true
   },
   "outputs": [],
   "source": [
    "### Print out the top five softmax probabilities for the predictions on the German traffic sign images found on the web. \n",
    "### Feel free to use as many code cells as needed."
   ]
  },
  {
   "cell_type": "code",
   "execution_count": 44,
   "metadata": {},
   "outputs": [
    {
     "name": "stdout",
     "output_type": "stream",
     "text": [
      "[ 0.08597568  0.06770002  0.05896899  0.05564241  0.05450496]\n",
      "['No passing', 'Speed limit (70km/h)', 'Speed limit (80km/h)', 'Dangerous curve to the left', 'No passing for vehicles over 3.5 metric tons']\n",
      "Speed limit (70km/h)\n",
      "\n",
      "[ 0.11523202  0.08628842  0.07106452  0.06783156  0.05543895]\n",
      "['No passing', 'No passing for vehicles over 3.5 metric tons', 'Priority road', 'Dangerous curve to the left', 'Speed limit (80km/h)']\n",
      "No passing for vehicles over 3.5 metric tons\n",
      "\n",
      "[  9.99183953e-01   6.96034636e-04   1.16933676e-04   2.97003635e-06\n",
      "   1.44595269e-08]\n",
      "['General caution', 'Pedestrians', 'Traffic signals', 'Right-of-way at the next intersection', 'Road narrows on the right']\n",
      "Road narrows on the right\n",
      "\n",
      "[ 0.07887001  0.06277854  0.06196083  0.05827719  0.05124798]\n",
      "['No passing', 'No passing for vehicles over 3.5 metric tons', 'Speed limit (70km/h)', 'Priority road', 'Speed limit (80km/h)']\n",
      "Road work\n",
      "\n",
      "[ 0.07825019  0.07259926  0.0683253   0.06019015  0.04978363]\n",
      "['Speed limit (70km/h)', 'No passing', 'Speed limit (80km/h)', 'No passing for vehicles over 3.5 metric tons', 'Speed limit (60km/h)']\n",
      "Stop\n",
      "\n",
      "[ 0.75956929  0.19956039  0.03742873  0.0020123   0.00096698]\n",
      "['Speed limit (100km/h)', 'Speed limit (120km/h)', 'Speed limit (80km/h)', 'Speed limit (70km/h)', 'Speed limit (30km/h)']\n",
      "Speed limit (120km/h)\n",
      "\n",
      "[  9.99969125e-01   3.09320712e-05   4.77178581e-08   1.40934708e-10\n",
      "   1.06816181e-10]\n",
      "['Keep right', 'Turn left ahead', 'Go straight or right', 'Roundabout mandatory', 'Ahead only']\n",
      "Keep right\n",
      "\n"
     ]
    }
   ],
   "source": [
    "with tf.Session() as sess:\n",
    "    saver.restore(sess, './lenet')\n",
    "    test = sess.run(logits, feed_dict={x: internetImages, y: internetAnswers, keep_prob_conv: 1.0, keep_prob_fullConn: 1.0})\n",
    "    test= tf.nn.softmax(test)\n",
    "    test = tf.nn.top_k(test, k=5)\n",
    "    answers = sess.run(test)\n",
    "for i in range(len(internetAnswers)):\n",
    "    print(answers.values[i])\n",
    "    print([signNames[j] for j in answers.indices[i]])\n",
    "    print(signNames[internetAnswers[i]])\n",
    "    print()"
   ]
  }
 ],
 "metadata": {
  "anaconda-cloud": {},
  "kernelspec": {
   "display_name": "Python 3",
   "language": "python",
   "name": "python3"
  },
  "language_info": {
   "codemirror_mode": {
    "name": "ipython",
    "version": 3
   },
   "file_extension": ".py",
   "mimetype": "text/x-python",
   "name": "python",
   "nbconvert_exporter": "python",
   "pygments_lexer": "ipython3",
   "version": "3.5.2"
  },
  "widgets": {
   "state": {},
   "version": "1.1.2"
  }
 },
 "nbformat": 4,
 "nbformat_minor": 1
}
